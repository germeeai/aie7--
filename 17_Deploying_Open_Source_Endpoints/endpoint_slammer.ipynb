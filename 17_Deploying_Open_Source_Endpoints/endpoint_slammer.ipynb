{
 "cells": [
  {
   "cell_type": "markdown",
   "id": "3c07708f",
   "metadata": {},
   "source": [
    "Now that you've deployed your endpoint - it's time to slam it!"
   ]
  },
  {
   "cell_type": "code",
   "execution_count": 1,
   "id": "2fb76763",
   "metadata": {},
   "outputs": [],
   "source": [
    "import os\n",
    "import getpass\n",
    "\n",
    "os.environ[\"TOGETHER_API_KEY\"] = getpass.getpass(\"Enter your Together API key: \")"
   ]
  },
  {
   "cell_type": "markdown",
   "id": "4fbd1778",
   "metadata": {},
   "source": [
    "Let's try with 1 request, just to verify our endpoint is alive.\n",
    "\n",
    "Make sure you provide your own endpoint identifier! It will look something like this:\n",
    "\n",
    "- `your-username-here/openai/gpt-oss-20b-unique-identifier`"
   ]
  },
  {
   "cell_type": "code",
   "execution_count": 4,
   "id": "16b73147",
   "metadata": {},
   "outputs": [
    {
     "name": "stdout",
     "output_type": "stream",
     "text": [
      "Ah, the age‑old riddle of the *wood‑chuck*! 🐿️\n",
      "\n",
      "> **“How much wood could a wood‑chuck chuck if a wood‑chuck could chuck wood?”**\n",
      "\n",
      "In scientific circles it’s known as the *Witman–Hogg hypothesis* (they never did actually test it, though 😄). Let’s break it down:\n",
      "\n",
      "1. **Definition check** – A “wood‑chuck” is a common name for a *ground squirrel* (aka a *woodchuck*). They’re furry, arboreal (some say), and not naturally inclined to chuck wood—more likely to chuck… burr, a burrow, that is.\n",
      "\n",
      "2. **The “could chuck wood” twist** – Assuming a theoretically fine‑tuned wood‑chuck with the lumps of oak that a lumberjack dreams of, how much can it toss?\n",
      "\n",
      "   - **Literally**: Using the only data we have (a *woodchuck*’s body mass, average bite force, and arm length), biologists estimate a max chuck of about **≈ 70 pounds** (≈ 32 kg) of “milled wood” per hour – roughly the same weight a determined human can push a wooden plank of 1 × 1 × 8 ft.  \n",
      "   - **Mythically**: Folklore in the Appalachian Hills states that a chuck that can *really* chuck wood would casually chuck *a whole stack* of small branches—say **10‑12 foot‑length logs**—in a single hop.\n",
      "\n",
      "   (Just kidding – it’s a tongue‑twister, not a physics problem!)\n",
      "\n",
      "3. **The fun answer** – According to the tongue‑twister’s own words:\n",
      "\n",
      "   > *\"If a wood‑chuck could chuck wood, a wood‑chuck would chuck as much wood as a wood‑chuck could chuck; that is, as much wood as a wood‑chuck could chuck, and then some!\"*\n",
      "\n",
      "   In other words: **As much wood as a wood‑chuck can chuck, **and** the rest will be held in the forest until the next wood‑chuck season!**\n",
      "\n",
      "🐾 Bottom line: A wood‑chuck might chuck up to *a few dozen pounds* of bark per day—enough to clear a single twig‑sized obstacle—but it’s safe to say the forest was built long before it was invented. So if your question is geared toward the “infinite chuck” of a tongue‑twister, the answer is *infinite*, or at least *as many chuck‑able chunks as the forest will provide!*\n"
     ]
    }
   ],
   "source": [
    "from together import Together\n",
    "\n",
    "client = Together()\n",
    "\n",
    "# REPLACE WITH YOUR OWN ENDPOINT IDENTIFIER\n",
    "model_endpoint = \"germeeai_f92a/openai/gpt-oss-20b-d37a5870\"\n",
    "\n",
    "response = client.chat.completions.create(\n",
    "    model=model_endpoint,\n",
    "    messages=[\n",
    "      {\n",
    "        \"role\": \"user\",\n",
    "        \"content\": \"How much wood could a wood chuck chuck if a wood chuck could chuck wood?\"\n",
    "      }\n",
    "    ]\n",
    ")\n",
    "print(response.choices[0].message.content)\n"
   ]
  },
  {
   "cell_type": "markdown",
   "id": "a9ea32b5",
   "metadata": {},
   "source": [
    "Now, let's SLAM IT."
   ]
  },
  {
   "cell_type": "code",
   "execution_count": 5,
   "id": "fbce1853",
   "metadata": {},
   "outputs": [
    {
     "name": "stdout",
     "output_type": "stream",
     "text": [
      "Response 15: **Answer (Request 15)**  \n",
      "\n",
      "A woodchuck would chuck **as much...\n",
      "Response 4: A lawyer for wood‑chuck‑rights recently published a tongue‑t...\n",
      "Response 19: The classic tongue‑twister answer usually goes like this:\n",
      "\n",
      ">...\n",
      "Response 10: A wood‑chuck would chuck “as much wood as a wood‑chuck could...\n",
      "Response 6: The classic tongue‑twister answer is that a woodchuck would ...\n",
      "Response 23: Ah, the classic tongue‑twister! While it’s more of a playful...\n",
      "Response 3: A classic estimate—thanks to a tongue‑twister‑loving wildlif...\n",
      "Response 2: The tongue‑twister doesn’t actually have a scientific answer...\n",
      "Response 12: **Answer (the classic “tongue‑twister” answer)**  \n",
      "\n",
      "> “A woo...\n",
      "Response 7: The old tongue‑twister meta‑question is usually treated more...\n",
      "Response 24: About **700 pounds** of wood – that’s the estimate most ofte...\n",
      "Response 8: A classic tongue‑twister rather than a literal query—scienti...\n",
      "Response 5: Hey! I understand you’d like a systematic approach for plann...\n",
      "Response 16: Hmm… The classic answer, for the record, is as old as the to...\n",
      "Response 14: It’s an old tongue‑twister, not an actual forestry measureme...\n",
      "Response 11: **Request 11 – The classic wood‑chuck conundrum**\n",
      "\n",
      "> *“How m...\n",
      "Response 21: A classic tongue‑twister, right? 📣\n",
      "\n",
      "> **“How much wood could...\n",
      "Response 18: **Answer – and a little tongue‑twister fun**\n",
      "\n",
      "If you shrink ...\n",
      "Response 13: The original tongue‑twister is intentionally **nonsensical**...\n",
      "Response 22: \"How much wood could a wood chuck chuck if a wood chuck coul...\n",
      "Response 9: The classic tongue‑teller doesn’t have a scientific answer—w...\n",
      "Response 1: The old tongue‑twister doesn’t have a scientific answer—it’s...\n",
      "Response 20: Here is the first 10 statements: 1. A woodchuck's chucking e...\n",
      "Response 17: **Short answer:** A woodchuck would chuck *as much wood as i...\n"
     ]
    }
   ],
   "source": [
    "import asyncio\n",
    "from together import AsyncTogether\n",
    "\n",
    "async def send_request(client, idx):\n",
    "    try:\n",
    "        response = await client.chat.completions.create(\n",
    "            model=model_endpoint,\n",
    "            messages=[\n",
    "                {\n",
    "                    \"role\": \"user\",\n",
    "                    \"content\": f\"How much wood could a wood chuck chuck if a wood chuck could chuck wood? (Request {idx})\"\n",
    "                }\n",
    "            ]\n",
    "        )\n",
    "        print(f\"Response {idx}: {response.choices[0].message.content[:60]}...\")\n",
    "    except Exception as e:\n",
    "        print(f\"Request {idx} failed: {e}\")\n",
    "\n",
    "async def main():\n",
    "    client = AsyncTogether()\n",
    "    tasks = [send_request(client, i,) for i in range(1, 25)]\n",
    "    await asyncio.gather(*tasks)\n",
    "\n",
    "# Run the async main function\n",
    "await main()"
   ]
  }
 ],
 "metadata": {
  "kernelspec": {
   "display_name": ".venv",
   "language": "python",
   "name": "python3"
  },
  "language_info": {
   "codemirror_mode": {
    "name": "ipython",
    "version": 3
   },
   "file_extension": ".py",
   "mimetype": "text/x-python",
   "name": "python",
   "nbconvert_exporter": "python",
   "pygments_lexer": "ipython3",
   "version": "3.13.5"
  }
 },
 "nbformat": 4,
 "nbformat_minor": 5
}
